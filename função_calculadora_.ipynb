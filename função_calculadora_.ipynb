{
  "nbformat": 4,
  "nbformat_minor": 0,
  "metadata": {
    "colab": {
      "provenance": [],
      "authorship_tag": "ABX9TyO6ReWPJDSqgYiDpnsCPPcX",
      "include_colab_link": true
    },
    "kernelspec": {
      "name": "python3",
      "display_name": "Python 3"
    },
    "language_info": {
      "name": "python"
    }
  },
  "cells": [
    {
      "cell_type": "markdown",
      "metadata": {
        "id": "view-in-github",
        "colab_type": "text"
      },
      "source": [
        "<a href=\"https://colab.research.google.com/github/victoriawermelinger/PROZ_TALENTOCLOUD/blob/main/fun%C3%A7%C3%A3o_calculadora_.ipynb\" target=\"_parent\"><img src=\"https://colab.research.google.com/assets/colab-badge.svg\" alt=\"Open In Colab\"/></a>"
      ]
    },
    {
      "cell_type": "code",
      "execution_count": 3,
      "metadata": {
        "colab": {
          "base_uri": "https://localhost:8080/"
        },
        "id": "dCIdWJgQX639",
        "outputId": "a09e30ae-56ed-4d2e-ac9d-5a9b69e8f414"
      },
      "outputs": [
        {
          "output_type": "stream",
          "name": "stdout",
          "text": [
            "\n",
            "Digite o primeiro numero:5\n",
            "Digite o segundo numero: 2\n",
            "\n",
            "Digite 1: Soma\n",
            "Digite 2: Subtração\n",
            "Digite 3: Multiplicação\n",
            "Digite 4: Divisão\n",
            "2\n",
            "\n",
            "Resultado = 3\n"
          ]
        }
      ],
      "source": [
        "def calculadora(num1, num2, operador):\n",
        "    if operador == 1:\n",
        "       resultado = num1 + num2\n",
        "    if operador == 2:\n",
        "        resultado = num1 - num2\n",
        "    if operador == 3:\n",
        "        resultado = num1 * num2\n",
        "    if operador == 4:\n",
        "        resultado = num1 // num2\n",
        "    return resultado\n",
        "\n",
        "num1 = int(input(\"\\nDigite o primeiro numero:\"))\n",
        "num2 = int(input(\"Digite o segundo numero: \"))\n",
        "\n",
        "operador = int(input(\"\\nDigite 1: Soma\\nDigite 2: Subtração\\nDigite 3: Multiplicação\\nDigite 4: Divisão\\n\"))\n",
        "print()\n",
        "resultado = calculadora(num1, num2, operador)\n",
        "print('Resultado =', resultado)"
      ]
    }
  ]
}