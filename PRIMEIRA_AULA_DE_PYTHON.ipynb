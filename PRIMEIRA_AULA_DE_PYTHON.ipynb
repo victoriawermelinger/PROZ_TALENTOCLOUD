{
  "nbformat": 4,
  "nbformat_minor": 0,
  "metadata": {
    "colab": {
      "provenance": [],
      "authorship_tag": "ABX9TyOrLPKL7eGxwd+wu8RGrdAx"
    },
    "kernelspec": {
      "name": "python3",
      "display_name": "Python 3"
    },
    "language_info": {
      "name": "python"
    }
  },
  "cells": [
    {
      "cell_type": "markdown",
      "source": [
        "# **Variáveis**"
      ],
      "metadata": {
        "id": "q8S84sqlTgBu"
      }
    },
    {
      "cell_type": "code",
      "source": [
        "numero = 5\n",
        "print(numero)\n",
        "\n",
        "print(type (numero))"
      ],
      "metadata": {
        "colab": {
          "base_uri": "https://localhost:8080/"
        },
        "id": "O9tD-JMxTuQF",
        "outputId": "4bd74e7a-ee2d-40a5-ae9f-6b3f923facae"
      },
      "execution_count": null,
      "outputs": [
        {
          "output_type": "stream",
          "name": "stdout",
          "text": [
            "5\n",
            "<class 'int'>\n"
          ]
        }
      ]
    },
    {
      "cell_type": "code",
      "source": [
        "bebida_favorita = \"Guaraná\"\n",
        "print(bebida_favorita)\n",
        "print(type(bebida_favorita))\n",
        "\n",
        "bebida_preco = 5.99\n",
        "print(bebida_preco)\n",
        "print(type(bebida_preco))\n",
        "\n",
        "bebida_alcolica = False\n",
        "print(bebida_alcolica)\n",
        "print(type(bebida_alcolica))\n"
      ],
      "metadata": {
        "colab": {
          "base_uri": "https://localhost:8080/"
        },
        "id": "ph6e3snhUJKF",
        "outputId": "078ad037-3992-4137-daff-7df13e9246d7"
      },
      "execution_count": null,
      "outputs": [
        {
          "output_type": "stream",
          "name": "stdout",
          "text": [
            "Guaraná\n",
            "<class 'str'>\n",
            "5.99\n",
            "<class 'float'>\n",
            "False\n",
            "<class 'bool'>\n"
          ]
        }
      ]
    },
    {
      "cell_type": "markdown",
      "source": [
        "# Operadores **Aritimeticos**"
      ],
      "metadata": {
        "id": "PnEVidO2WF1L"
      }
    },
    {
      "cell_type": "code",
      "source": [
        "print(5+8)\n",
        "print(5*8)\n",
        "print(5/2)\n",
        "print(5-8)"
      ],
      "metadata": {
        "colab": {
          "base_uri": "https://localhost:8080/"
        },
        "id": "JeOwY7YeWd4r",
        "outputId": "faf22775-f6e6-4c00-e62f-f57e486caad3"
      },
      "execution_count": null,
      "outputs": [
        {
          "output_type": "stream",
          "name": "stdout",
          "text": [
            "13\n",
            "40\n",
            "2.5\n",
            "-3\n"
          ]
        }
      ]
    },
    {
      "cell_type": "code",
      "source": [
        "num1 = 10\n",
        "num2 = 2\n",
        "\n",
        "print(num1/num2)"
      ],
      "metadata": {
        "colab": {
          "base_uri": "https://localhost:8080/"
        },
        "id": "lXQAlnnEW4J3",
        "outputId": "e2f54d7f-ea1d-45e9-b770-b4aa89ae73b0"
      },
      "execution_count": null,
      "outputs": [
        {
          "output_type": "stream",
          "name": "stdout",
          "text": [
            "5.0\n"
          ]
        }
      ]
    },
    {
      "cell_type": "code",
      "source": [
        "almoco_favorito = \"Feijoada\"\n",
        "almoco_preco = 34.99\n",
        "\n",
        "print(almoco_preco + bebida_preco)\n",
        "\n",
        "sobremesa_favorita = \"churros\"\n",
        "sobremesa_preco = 18.99\n",
        "convidados = 4\n",
        "\n",
        "novo_total = (almoco_preco * 4) +(bebida_preco * 3)+ (sobremesa_preco *2)\n",
        "print(novo_total)\n",
        "valor_por_pessoa = novo_total /convidados\n",
        "print(valor_por_pessoa)\n"
      ],
      "metadata": {
        "colab": {
          "base_uri": "https://localhost:8080/"
        },
        "id": "uXTNyw-RXMIy",
        "outputId": "02f0f1ac-b587-4880-9c24-0c956642df8c"
      },
      "execution_count": null,
      "outputs": [
        {
          "output_type": "stream",
          "name": "stdout",
          "text": [
            "40.980000000000004\n",
            "195.91\n",
            "48.9775\n"
          ]
        }
      ]
    },
    {
      "cell_type": "markdown",
      "source": [
        "# Operadores **Relacionais**"
      ],
      "metadata": {
        "id": "Iptjw0gAclcr"
      }
    },
    {
      "cell_type": "code",
      "source": [
        "print(5>2)\n",
        "print(5<2)\n",
        "print(5>=2)\n",
        "print(5<=2)\n",
        "print(8==8)\n",
        "print(5!=10)"
      ],
      "metadata": {
        "colab": {
          "base_uri": "https://localhost:8080/"
        },
        "id": "K6vToWUEctvB",
        "outputId": "6fd574b9-60d8-4acd-b91f-dab19ce0c3f6"
      },
      "execution_count": null,
      "outputs": [
        {
          "output_type": "stream",
          "name": "stdout",
          "text": [
            "True\n",
            "False\n",
            "True\n",
            "False\n",
            "True\n",
            "True\n"
          ]
        }
      ]
    },
    {
      "cell_type": "code",
      "source": [
        "texto = \"pão\"\n",
        "print(texto == \"Pão\")\n",
        "\n",
        "texto = \"pão\"\n",
        "print(texto != \"Pão\")"
      ],
      "metadata": {
        "colab": {
          "base_uri": "https://localhost:8080/"
        },
        "id": "TY_6okuDdiHA",
        "outputId": "fc14d8a7-52ca-4b4d-eecd-967c82c8353f"
      },
      "execution_count": null,
      "outputs": [
        {
          "output_type": "stream",
          "name": "stdout",
          "text": [
            "False\n",
            "True\n"
          ]
        }
      ]
    },
    {
      "cell_type": "markdown",
      "source": [
        "# Estruturas **Condicionais**"
      ],
      "metadata": {
        "id": "3g3gcK_meCcq"
      }
    },
    {
      "cell_type": "code",
      "source": [
        "orcamento = 50.00\n",
        "if(orcamento >= valor_por_pessoa):\n",
        "  print(\"consigo pagar\")\n",
        "\n",
        "\n",
        "  orcamento = 45.00\n",
        "if(orcamento >= valor_por_pessoa):\n",
        "  print(\"consigo pagar\")\n",
        "else:\n",
        "    print(\"perdir ajuda ao namorado\")\n",
        "\n",
        "\n",
        "orcamento = 45.00\n",
        "namorado = True\n",
        "\n",
        "if(orcamento >= valor_por_pessoa):\n",
        "  print(\"consigo pagar\")\n",
        "elif (namorado == True):\n",
        " print(\"Obrigada mozinho pelo pixzinho\")\n",
        "else:\n",
        "  print(\"perdir ajuda ao namorado\")"
      ],
      "metadata": {
        "colab": {
          "base_uri": "https://localhost:8080/"
        },
        "id": "chMrDdA6eLbV",
        "outputId": "fedbad46-59c5-4c05-9713-0d05691ff4af"
      },
      "execution_count": null,
      "outputs": [
        {
          "output_type": "stream",
          "name": "stdout",
          "text": [
            "consigo pagar\n",
            "perdir ajuda ao namorado\n",
            "Obrigada mozinho pelo pixzinho\n"
          ]
        }
      ]
    },
    {
      "cell_type": "code",
      "source": [
        "andar = 21\n",
        "for i in range(20,0,-1):\n",
        "    andar = andar - 1\n",
        "    if (andar == 13):\n",
        "        continue\n",
        "    print (andar,\"° andar \")\n",
        "\n",
        "andar = 21\n",
        "while (andar > 1):\n",
        "    andar = andar - 1\n",
        "    if (andar == 13):\n",
        "      continue\n",
        "    print (andar, \"° andar \")"
      ],
      "metadata": {
        "id": "3DEigq8ZjVpo",
        "outputId": "afefb89d-721f-44c2-bf86-38fc661dcc91",
        "colab": {
          "base_uri": "https://localhost:8080/"
        }
      },
      "execution_count": null,
      "outputs": [
        {
          "output_type": "stream",
          "name": "stdout",
          "text": [
            "20 ° andar \n",
            "19 ° andar \n",
            "18 ° andar \n",
            "17 ° andar \n",
            "16 ° andar \n",
            "15 ° andar \n",
            "14 ° andar \n",
            "12 ° andar \n",
            "11 ° andar \n",
            "10 ° andar \n",
            "9 ° andar \n",
            "8 ° andar \n",
            "7 ° andar \n",
            "6 ° andar \n",
            "5 ° andar \n",
            "4 ° andar \n",
            "3 ° andar \n",
            "2 ° andar \n",
            "1 ° andar \n",
            "20 ° andar \n",
            "19 ° andar \n",
            "18 ° andar \n",
            "17 ° andar \n",
            "16 ° andar \n",
            "15 ° andar \n",
            "14 ° andar \n",
            "12 ° andar \n",
            "11 ° andar \n",
            "10 ° andar \n",
            "9 ° andar \n",
            "8 ° andar \n",
            "7 ° andar \n",
            "6 ° andar \n",
            "5 ° andar \n",
            "4 ° andar \n",
            "3 ° andar \n",
            "2 ° andar \n",
            "1 ° andar \n"
          ]
        }
      ]
    }
  ]
}