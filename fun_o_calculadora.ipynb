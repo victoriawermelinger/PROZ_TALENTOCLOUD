{
  "nbformat": 4,
  "nbformat_minor": 0,
  "metadata": {
    "colab": {
      "provenance": [],
      "authorship_tag": "ABX9TyO6ReWPJDSqgYiDpnsCPPcX",
      "include_colab_link": true
    },
    "kernelspec": {
      "name": "python3",
      "display_name": "Python 3"
    },
    "language_info": {
      "name": "python"
    }
  },
  "cells": [
    {
      "cell_type": "markdown",
      "metadata": {
        "id": "view-in-github",
        "colab_type": "text"
      },
      "source": [
        "<a href=\"https://colab.research.google.com/github/victoriawermelinger/PROZ_TALENTOCLOUD/blob/main/fun_o_calculadora.ipynb\" target=\"_parent\"><img src=\"https://colab.research.google.com/assets/colab-badge.svg\" alt=\"Open In Colab\"/></a>"
      ]
    },
    {
      "cell_type": "code",
      "execution_count": null,
      "metadata": {
        "colab": {
          "base_uri": "https://localhost:8080/",
          "height": 418
        },
        "id": "dCIdWJgQX639",
        "outputId": "b7a88298-5a3a-4c64-f7ba-3ebd7dba8f21"
      },
      "outputs": [
        {
          "output_type": "stream",
          "name": "stdout",
          "text": [
            "\n",
            "Digite o primeiro numero:1\n",
            "Digite o segundo numero: 3\n",
            "\n",
            "Digite 1: Soma\n",
            "Digite 2: Subtração\n",
            "Digite 3: Multiplicação\n",
            "Digite 4: Divisão\n",
            "5\n",
            "\n"
          ]
        },
        {
          "output_type": "error",
          "ename": "TypeError",
          "evalue": "ignored",
          "traceback": [
            "\u001b[0;31m---------------------------------------------------------------------------\u001b[0m",
            "\u001b[0;31mTypeError\u001b[0m                                 Traceback (most recent call last)",
            "\u001b[0;32m<ipython-input-2-aafe56dc3cae>\u001b[0m in \u001b[0;36m<cell line: 16>\u001b[0;34m()\u001b[0m\n\u001b[1;32m     14\u001b[0m \u001b[0moperador\u001b[0m \u001b[0;34m=\u001b[0m \u001b[0mint\u001b[0m\u001b[0;34m(\u001b[0m\u001b[0minput\u001b[0m\u001b[0;34m(\u001b[0m\u001b[0;34m\"\\nDigite 1: Soma\\nDigite 2: Subtração\\nDigite 3: Multiplicação\\nDigite 4: Divisão\\n\"\u001b[0m\u001b[0;34m)\u001b[0m\u001b[0;34m)\u001b[0m\u001b[0;34m\u001b[0m\u001b[0;34m\u001b[0m\u001b[0m\n\u001b[1;32m     15\u001b[0m \u001b[0mprint\u001b[0m\u001b[0;34m(\u001b[0m\u001b[0;34m)\u001b[0m\u001b[0;34m\u001b[0m\u001b[0;34m\u001b[0m\u001b[0m\n\u001b[0;32m---> 16\u001b[0;31m \u001b[0mresultado\u001b[0m \u001b[0;34m=\u001b[0m \u001b[0mcalculadora\u001b[0m\u001b[0;34m(\u001b[0m\u001b[0mnum1\u001b[0m\u001b[0;34m,\u001b[0m \u001b[0mnum2\u001b[0m\u001b[0;34m,\u001b[0m \u001b[0moperador\u001b[0m\u001b[0;34m)\u001b[0m\u001b[0;34m\u001b[0m\u001b[0;34m\u001b[0m\u001b[0m\n\u001b[0m\u001b[1;32m     17\u001b[0m \u001b[0mprint\u001b[0m\u001b[0;34m(\u001b[0m\u001b[0;34m'Resultado ='\u001b[0m\u001b[0;34m,\u001b[0m \u001b[0mresultado\u001b[0m\u001b[0;34m)\u001b[0m\u001b[0;34m\u001b[0m\u001b[0;34m\u001b[0m\u001b[0m\n",
            "\u001b[0;31mTypeError\u001b[0m: calculadora() missing 1 required positional argument: 'operador'"
          ]
        }
      ],
      "source": [
        "def calculadora(num1, num2, operador):\n",
        "    if operador == 1:\n",
        "       resultado = num1 + num2\n",
        "    if operador == 2:\n",
        "        resultado = num1 - num2\n",
        "    if operador == 3:\n",
        "        resultado = num1 * num2\n",
        "    if operador == 4:\n",
        "        resultado = num1 // num2\n",
        "    return resultado\n",
        "\n",
        "num1 = int(input(\"\\nDigite o primeiro numero:\"))\n",
        "num2 = int(input(\"Digite o segundo numero: \"))\n",
        "\n",
        "operador = int(input(\"\\nDigite 1: Soma\\nDigite 2: Subtração\\nDigite 3: Multiplicação\\nDigite 4: Divisão\\n\"))\n",
        "print()\n",
        "resultado = calculadora(num1, num2, operador)\n",
        "print('Resultado =', resultado)"
      ]
    }
  ]
}